{
 "cells": [
  {
   "cell_type": "code",
   "execution_count": 1,
   "metadata": {},
   "outputs": [],
   "source": [
    "import os\n",
    "import requests\n",
    "import zipfile\n",
    "import io\n",
    "import pandas as pd\n",
    "from datetime import datetime, timedelta\n",
    "from bs4 import BeautifulSoup\n",
    "pd.set_option('display.max_columns', None)\n",
    "pd.set_option('display.expand_frame_repr', False)\n",
    "pd.set_option('display.max_colwidth', None)\n",
    "\n",
    "def get_nemweb_dispatch_info(start_date, end_date):\n",
    "    # Convert input date strings to datetime objects\n",
    "    print(f'Start Date: {start_date}, End Date: {end_date}')\n",
    "    start_dt = datetime.strptime(start_date, \"%d/%m/%Y %H:%M\")\n",
    "    og_start_dt = datetime.strptime(start_date, \"%d/%m/%Y %H:%M\")\n",
    "\n",
    "    end_dt = datetime.strptime(end_date, \"%d/%m/%Y %H:%M\")\n",
    "    og_end_dt = datetime.strptime(end_date, \"%d/%m/%Y %H:%M\")\n",
    "    print(f'Start Date before formatting: {start_dt}, End Date before formatting: {end_dt}')\n",
    "\n",
    "    print(f'Original Start date {og_start_dt}, Original End date {og_end_dt}')\n",
    "    \n",
    "    # Adjust start_dt if the time is before 04:05:00\n",
    "    if start_dt.time() < datetime.strptime(\"04:05:00\", \"%H:%M:%S\").time():\n",
    "        start_dt -= timedelta(days=1)\n",
    "        print(f'Start date after adjustment: {start_dt}')\n",
    "    \n",
    "    # Adjust end_dt if the time is after 04:05:00\n",
    "    if end_dt.time() > datetime.strptime(\"04:05:00\", \"%H:%M:%S\").time():\n",
    "        end_dt += timedelta(days=1)\n",
    "        print(f'End date after adjustment: {end_dt}')\n",
    "    \n",
    "    # Initialize an empty DataFrame to store the concatenated data\n",
    "    combined_df = pd.DataFrame()\n",
    "    \n",
    "    # Base URL where files are stored\n",
    "    base_url = \"https://nemweb.com.au/Reports/CURRENT/Next_Day_Dispatch/\"\n",
    "\n",
    "    first_df = True\n",
    "\n",
    "    # Iterate through each day between start_date and end_date\n",
    "    while start_dt <= end_dt:\n",
    "        # Format the date as YYYYMMDD for the file name\n",
    "        formatted_date = start_dt.strftime(\"%Y%m%d\")\n",
    "        \n",
    "        try:\n",
    "            # Get the page content\n",
    "            response = requests.get(base_url)\n",
    "            response.raise_for_status()\n",
    "            soup = BeautifulSoup(response.content, 'html.parser')\n",
    "            \n",
    "            # Find all links in the page that match the date pattern\n",
    "            file_links = soup.find_all('a', href=True)\n",
    "            matching_files = [\n",
    "                os.path.basename(link['href']) for link in file_links\n",
    "                if formatted_date in link['href'] and link['href'].endswith('.zip')\n",
    "            ]\n",
    "            \n",
    "            # Download and process each matching file\n",
    "            for file_name in matching_files:\n",
    "                file_url = base_url + file_name\n",
    "                print(f'Downloading {file_url}')\n",
    "                file_response = requests.get(file_url)\n",
    "                file_response.raise_for_status()\n",
    "                \n",
    "                with zipfile.ZipFile(io.BytesIO(file_response.content)) as the_zip:\n",
    "                    for file in the_zip.namelist():\n",
    "                        with the_zip.open(file) as the_file:\n",
    "                            if first_df:\n",
    "                                # Read the first DataFrame without skipping rows\n",
    "                                df = pd.read_csv(the_file, skiprows=1)\n",
    "                                column_names = df.columns\n",
    "                                first_df = False\n",
    "                            else:\n",
    "                                # Skip the first 2 rows for subsequent DataFrames\n",
    "                                df = pd.read_csv(the_file, skiprows=2, names=column_names)\n",
    "                                \n",
    "                            df = df[df['UNIT_SOLUTION'] == 'UNIT_SOLUTION']\n",
    "                            combined_df = pd.concat([combined_df, df], ignore_index=True, axis=0)\n",
    "        \n",
    "        except requests.exceptions.RequestException as e:\n",
    "            print(f\"Failed to process {formatted_date}: {e}\")\n",
    "        \n",
    "        # Increment the date by one day\n",
    "        start_dt += timedelta(days=1)\n",
    "\n",
    "    \n",
    "    columns_to_keep = ['SETTLEMENTDATE', 'DUID', 'INTERVENTION', 'DISPATCHMODE', 'AGCSTATUS', 'INITIALMW', \n",
    "                    'TOTALCLEARED', 'RAMPDOWNRATE', 'RAMPUPRATE', 'LOWER5MIN', 'LOWER60SEC', \n",
    "                    'LOWER6SEC', 'RAISE5MIN', 'RAISE60SEC', 'RAISE6SEC', 'LOWERREG', 'RAISEREG', \n",
    "                    'AVAILABILITY', 'RAISEREGENABLEMENTMAX', 'RAISEREGENABLEMENTMIN', \n",
    "                    'LOWERREGENABLEMENTMAX', 'LOWERREGENABLEMENTMIN', 'SEMIDISPATCHCAP']\n",
    "\n",
    "    if 'LOWER1SEC' in combined_df.columns:\n",
    "        columns_to_keep.append('LOWER1SEC')\n",
    "        if combined_df['LOWER1SEC'].isnull().any():\n",
    "            combined_df['LOWER1SEC'] = combined_df['LOWER1SEC'].fillna(0)\n",
    "    \n",
    "    if 'RAISE1SEC' in combined_df.columns:\n",
    "        columns_to_keep.append('RAISE1SEC')\n",
    "        if combined_df['RAISE1SEC'].isnull().any():\n",
    "            combined_df['RAISE1SEC'] = combined_df['RAISE1SEC'].fillna(0)\n",
    "\n",
    "    # Select only the columns you want to keep\n",
    "    combined_df = combined_df.loc[:, columns_to_keep]\n",
    "\n",
    "    combined_df['SETTLEMENTDATE'] = pd.to_datetime(combined_df['SETTLEMENTDATE'])\n",
    "    combined_df = combined_df[(combined_df['SETTLEMENTDATE'] >= og_start_dt) & (combined_df['SETTLEMENTDATE'] <= og_end_dt)]\n",
    "    \n",
    "    return combined_df"
   ]
  },
  {
   "cell_type": "code",
   "execution_count": 2,
   "metadata": {},
   "outputs": [
    {
     "name": "stdout",
     "output_type": "stream",
     "text": [
      "Start Date: 01/09/2024 00:05, End Date: 18/09/2024 00:00\n",
      "Start Date before formatting: 2024-09-01 00:05:00, End Date before formatting: 2024-09-18 00:00:00\n",
      "Original Start date 2024-09-01 00:05:00, Original End date 2024-09-18 00:00:00\n",
      "Start date after adjustment: 2024-08-31 00:05:00\n",
      "Downloading https://nemweb.com.au/Reports/CURRENT/Next_Day_Dispatch/PUBLIC_NEXT_DAY_DISPATCH_20240831_0000000431418256.zip\n"
     ]
    },
    {
     "name": "stderr",
     "output_type": "stream",
     "text": [
      "C:\\Users\\siddh\\AppData\\Local\\Temp\\ipykernel_37268\\2785140603.py:72: DtypeWarning: Columns (5,7,8,9,10,11,12,13,14,15,16,33) have mixed types. Specify dtype option on import or set low_memory=False.\n",
      "  df = pd.read_csv(the_file, skiprows=1)\n"
     ]
    },
    {
     "name": "stdout",
     "output_type": "stream",
     "text": [
      "Downloading https://nemweb.com.au/Reports/CURRENT/Next_Day_Dispatch/PUBLIC_NEXT_DAY_DISPATCH_20240901_0000000431524853.zip\n"
     ]
    },
    {
     "name": "stderr",
     "output_type": "stream",
     "text": [
      "C:\\Users\\siddh\\AppData\\Local\\Temp\\ipykernel_37268\\2785140603.py:77: DtypeWarning: Columns (5,7,8,9,10,11,12,13,14,15,16,33) have mixed types. Specify dtype option on import or set low_memory=False.\n",
      "  df = pd.read_csv(the_file, skiprows=2, names=column_names)\n"
     ]
    },
    {
     "name": "stdout",
     "output_type": "stream",
     "text": [
      "Downloading https://nemweb.com.au/Reports/CURRENT/Next_Day_Dispatch/PUBLIC_NEXT_DAY_DISPATCH_20240902_0000000431641361.zip\n"
     ]
    },
    {
     "name": "stderr",
     "output_type": "stream",
     "text": [
      "C:\\Users\\siddh\\AppData\\Local\\Temp\\ipykernel_37268\\2785140603.py:77: DtypeWarning: Columns (5,7,8,9,10,11,12,13,14,15,16,33) have mixed types. Specify dtype option on import or set low_memory=False.\n",
      "  df = pd.read_csv(the_file, skiprows=2, names=column_names)\n"
     ]
    },
    {
     "name": "stdout",
     "output_type": "stream",
     "text": [
      "Downloading https://nemweb.com.au/Reports/CURRENT/Next_Day_Dispatch/PUBLIC_NEXT_DAY_DISPATCH_20240903_0000000431751798.zip\n"
     ]
    },
    {
     "name": "stderr",
     "output_type": "stream",
     "text": [
      "C:\\Users\\siddh\\AppData\\Local\\Temp\\ipykernel_37268\\2785140603.py:77: DtypeWarning: Columns (5,7,8,9,10,11,12,13,14,15,16,33) have mixed types. Specify dtype option on import or set low_memory=False.\n",
      "  df = pd.read_csv(the_file, skiprows=2, names=column_names)\n"
     ]
    },
    {
     "name": "stdout",
     "output_type": "stream",
     "text": [
      "Downloading https://nemweb.com.au/Reports/CURRENT/Next_Day_Dispatch/PUBLIC_NEXT_DAY_DISPATCH_20240904_0000000431864745.zip\n"
     ]
    },
    {
     "name": "stderr",
     "output_type": "stream",
     "text": [
      "C:\\Users\\siddh\\AppData\\Local\\Temp\\ipykernel_37268\\2785140603.py:77: DtypeWarning: Columns (5,7,8,9,10,11,12,13,14,15,16,33) have mixed types. Specify dtype option on import or set low_memory=False.\n",
      "  df = pd.read_csv(the_file, skiprows=2, names=column_names)\n"
     ]
    },
    {
     "name": "stdout",
     "output_type": "stream",
     "text": [
      "Downloading https://nemweb.com.au/Reports/CURRENT/Next_Day_Dispatch/PUBLIC_NEXT_DAY_DISPATCH_20240905_0000000431973421.zip\n"
     ]
    },
    {
     "name": "stderr",
     "output_type": "stream",
     "text": [
      "C:\\Users\\siddh\\AppData\\Local\\Temp\\ipykernel_37268\\2785140603.py:77: DtypeWarning: Columns (5,7,8,9,10,11,12,13,14,15,16,33) have mixed types. Specify dtype option on import or set low_memory=False.\n",
      "  df = pd.read_csv(the_file, skiprows=2, names=column_names)\n"
     ]
    },
    {
     "name": "stdout",
     "output_type": "stream",
     "text": [
      "Downloading https://nemweb.com.au/Reports/CURRENT/Next_Day_Dispatch/PUBLIC_NEXT_DAY_DISPATCH_20240906_0000000432085762.zip\n"
     ]
    },
    {
     "name": "stderr",
     "output_type": "stream",
     "text": [
      "C:\\Users\\siddh\\AppData\\Local\\Temp\\ipykernel_37268\\2785140603.py:77: DtypeWarning: Columns (5,7,8,9,10,11,12,13,14,15,16,33) have mixed types. Specify dtype option on import or set low_memory=False.\n",
      "  df = pd.read_csv(the_file, skiprows=2, names=column_names)\n"
     ]
    },
    {
     "name": "stdout",
     "output_type": "stream",
     "text": [
      "Downloading https://nemweb.com.au/Reports/CURRENT/Next_Day_Dispatch/PUBLIC_NEXT_DAY_DISPATCH_20240907_0000000432193526.zip\n"
     ]
    },
    {
     "name": "stderr",
     "output_type": "stream",
     "text": [
      "C:\\Users\\siddh\\AppData\\Local\\Temp\\ipykernel_37268\\2785140603.py:77: DtypeWarning: Columns (5,7,8,9,10,11,12,13,14,15,16,33) have mixed types. Specify dtype option on import or set low_memory=False.\n",
      "  df = pd.read_csv(the_file, skiprows=2, names=column_names)\n"
     ]
    },
    {
     "name": "stdout",
     "output_type": "stream",
     "text": [
      "Downloading https://nemweb.com.au/Reports/CURRENT/Next_Day_Dispatch/PUBLIC_NEXT_DAY_DISPATCH_20240908_0000000432298338.zip\n"
     ]
    },
    {
     "name": "stderr",
     "output_type": "stream",
     "text": [
      "C:\\Users\\siddh\\AppData\\Local\\Temp\\ipykernel_37268\\2785140603.py:77: DtypeWarning: Columns (5,7,8,9,10,11,12,13,14,15,16,33) have mixed types. Specify dtype option on import or set low_memory=False.\n",
      "  df = pd.read_csv(the_file, skiprows=2, names=column_names)\n"
     ]
    },
    {
     "name": "stdout",
     "output_type": "stream",
     "text": [
      "Downloading https://nemweb.com.au/Reports/CURRENT/Next_Day_Dispatch/PUBLIC_NEXT_DAY_DISPATCH_20240909_0000000432410506.zip\n"
     ]
    },
    {
     "name": "stderr",
     "output_type": "stream",
     "text": [
      "C:\\Users\\siddh\\AppData\\Local\\Temp\\ipykernel_37268\\2785140603.py:77: DtypeWarning: Columns (5,7,8,9,10,11,12,13,14,15,16,33) have mixed types. Specify dtype option on import or set low_memory=False.\n",
      "  df = pd.read_csv(the_file, skiprows=2, names=column_names)\n"
     ]
    },
    {
     "name": "stdout",
     "output_type": "stream",
     "text": [
      "Downloading https://nemweb.com.au/Reports/CURRENT/Next_Day_Dispatch/PUBLIC_NEXT_DAY_DISPATCH_20240910_0000000432523887.zip\n"
     ]
    },
    {
     "name": "stderr",
     "output_type": "stream",
     "text": [
      "C:\\Users\\siddh\\AppData\\Local\\Temp\\ipykernel_37268\\2785140603.py:77: DtypeWarning: Columns (5,7,8,9,10,11,12,13,14,15,16,33) have mixed types. Specify dtype option on import or set low_memory=False.\n",
      "  df = pd.read_csv(the_file, skiprows=2, names=column_names)\n"
     ]
    },
    {
     "name": "stdout",
     "output_type": "stream",
     "text": [
      "Downloading https://nemweb.com.au/Reports/CURRENT/Next_Day_Dispatch/PUBLIC_NEXT_DAY_DISPATCH_20240911_0000000432635698.zip\n"
     ]
    },
    {
     "name": "stderr",
     "output_type": "stream",
     "text": [
      "C:\\Users\\siddh\\AppData\\Local\\Temp\\ipykernel_37268\\2785140603.py:77: DtypeWarning: Columns (5,7,8,9,10,11,12,13,14,15,16,33) have mixed types. Specify dtype option on import or set low_memory=False.\n",
      "  df = pd.read_csv(the_file, skiprows=2, names=column_names)\n"
     ]
    },
    {
     "name": "stdout",
     "output_type": "stream",
     "text": [
      "Downloading https://nemweb.com.au/Reports/CURRENT/Next_Day_Dispatch/PUBLIC_NEXT_DAY_DISPATCH_20240912_0000000432751755.zip\n"
     ]
    },
    {
     "name": "stderr",
     "output_type": "stream",
     "text": [
      "C:\\Users\\siddh\\AppData\\Local\\Temp\\ipykernel_37268\\2785140603.py:77: DtypeWarning: Columns (5,7,8,9,10,11,12,13,14,15,16,33) have mixed types. Specify dtype option on import or set low_memory=False.\n",
      "  df = pd.read_csv(the_file, skiprows=2, names=column_names)\n"
     ]
    },
    {
     "name": "stdout",
     "output_type": "stream",
     "text": [
      "Downloading https://nemweb.com.au/Reports/CURRENT/Next_Day_Dispatch/PUBLIC_NEXT_DAY_DISPATCH_20240913_0000000432876672.zip\n"
     ]
    },
    {
     "name": "stderr",
     "output_type": "stream",
     "text": [
      "C:\\Users\\siddh\\AppData\\Local\\Temp\\ipykernel_37268\\2785140603.py:77: DtypeWarning: Columns (5,7,8,9,10,11,12,13,14,15,16,33) have mixed types. Specify dtype option on import or set low_memory=False.\n",
      "  df = pd.read_csv(the_file, skiprows=2, names=column_names)\n"
     ]
    },
    {
     "name": "stdout",
     "output_type": "stream",
     "text": [
      "Downloading https://nemweb.com.au/Reports/CURRENT/Next_Day_Dispatch/PUBLIC_NEXT_DAY_DISPATCH_20240914_0000000432989224.zip\n"
     ]
    },
    {
     "name": "stderr",
     "output_type": "stream",
     "text": [
      "C:\\Users\\siddh\\AppData\\Local\\Temp\\ipykernel_37268\\2785140603.py:77: DtypeWarning: Columns (5,7,8,9,10,11,12,13,14,15,16,33) have mixed types. Specify dtype option on import or set low_memory=False.\n",
      "  df = pd.read_csv(the_file, skiprows=2, names=column_names)\n"
     ]
    },
    {
     "name": "stdout",
     "output_type": "stream",
     "text": [
      "Downloading https://nemweb.com.au/Reports/CURRENT/Next_Day_Dispatch/PUBLIC_NEXT_DAY_DISPATCH_20240915_0000000433102605.zip\n"
     ]
    },
    {
     "name": "stderr",
     "output_type": "stream",
     "text": [
      "C:\\Users\\siddh\\AppData\\Local\\Temp\\ipykernel_37268\\2785140603.py:77: DtypeWarning: Columns (5,7,8,9,10,11,12,13,14,15,16,33) have mixed types. Specify dtype option on import or set low_memory=False.\n",
      "  df = pd.read_csv(the_file, skiprows=2, names=column_names)\n"
     ]
    },
    {
     "name": "stdout",
     "output_type": "stream",
     "text": [
      "Downloading https://nemweb.com.au/Reports/CURRENT/Next_Day_Dispatch/PUBLIC_NEXT_DAY_DISPATCH_20240916_0000000433231037.zip\n"
     ]
    },
    {
     "name": "stderr",
     "output_type": "stream",
     "text": [
      "C:\\Users\\siddh\\AppData\\Local\\Temp\\ipykernel_37268\\2785140603.py:77: DtypeWarning: Columns (5,7,8,9,10,11,12,13,14,15,16,33) have mixed types. Specify dtype option on import or set low_memory=False.\n",
      "  df = pd.read_csv(the_file, skiprows=2, names=column_names)\n"
     ]
    },
    {
     "name": "stdout",
     "output_type": "stream",
     "text": [
      "Downloading https://nemweb.com.au/Reports/CURRENT/Next_Day_Dispatch/PUBLIC_NEXT_DAY_DISPATCH_20240917_0000000433344967.zip\n"
     ]
    },
    {
     "name": "stderr",
     "output_type": "stream",
     "text": [
      "C:\\Users\\siddh\\AppData\\Local\\Temp\\ipykernel_37268\\2785140603.py:77: DtypeWarning: Columns (5,7,8,9,10,11,12,13,14,15,16,33) have mixed types. Specify dtype option on import or set low_memory=False.\n",
      "  df = pd.read_csv(the_file, skiprows=2, names=column_names)\n"
     ]
    },
    {
     "name": "stdout",
     "output_type": "stream",
     "text": [
      "             SETTLEMENTDATE     DUID INTERVENTION DISPATCHMODE AGCSTATUS  INITIALMW TOTALCLEARED RAMPDOWNRATE RAMPUPRATE  LOWER5MIN  LOWER60SEC  LOWER6SEC  RAISE5MIN  RAISE60SEC  RAISE6SEC  LOWERREG  RAISEREG  AVAILABILITY  RAISEREGENABLEMENTMAX  RAISEREGENABLEMENTMIN  LOWERREGENABLEMENTMAX  LOWERREGENABLEMENTMIN  SEMIDISPATCHCAP  LOWER1SEC  RAISE1SEC\n",
      "119280  2024-09-01 00:05:00  ADPBA1G            0            0         1        0.0          0.0        93.12      93.12        0.0         0.0        0.0        3.0         3.0        3.0       0.0       0.0       6.00000                6.00000                    0.0                6.00000                    0.0              0.0        0.0        0.0\n",
      "119281  2024-09-01 00:05:00  ADPBA1L            0            0         1      0.266          1.0        93.12      93.12        3.0         3.0        3.0        0.0         0.0        0.0       0.0       0.0       6.00000                6.00000                    0.0                6.00000                    0.0              0.0        0.0        0.0\n",
      "119282  2024-09-01 00:05:00   ADPPV1            0            0         0        0.0          0.0        120.0      120.0        0.0         0.0        0.0        0.0         0.0        0.0       0.0       0.0       0.00000                0.00000                    0.0                0.00000                    0.0              0.0        0.0        0.0\n",
      "119283  2024-09-01 00:05:00   AGLHAL            0            0         0        0.0          0.0        720.0      720.0        0.0         0.0        0.0        0.0         0.0        0.0       0.0       0.0     192.00000                0.00000                    0.0                0.00000                    0.0              0.0        0.0        0.0\n",
      "119284  2024-09-01 00:05:00   AGLSOM            0            0         0        0.0          0.0        480.0      480.0        0.0         0.0        0.0        0.0         0.0        0.0       0.0       0.0     170.00000                0.00000                    0.0                0.00000                    0.0              0.0        0.0        0.0\n",
      "...                     ...      ...          ...          ...       ...        ...          ...          ...        ...        ...         ...        ...        ...         ...        ...       ...       ...           ...                    ...                    ...                    ...                    ...              ...        ...        ...\n",
      "2570155 2024-09-18 00:00:00  YENDWF1            0            0         0  107.10001    106.29887       1680.0     1680.0        0.0         0.0        0.0        0.0         0.0        0.0       0.0       0.0     106.29887                0.00000                    0.0                0.00000                    0.0              0.0        0.0        0.0\n",
      "2570156 2024-09-18 00:00:00    YWPS1            0            0         1  316.53925        315.0        180.0      180.0        0.0         0.0        0.0        0.0         0.0        0.0       0.0       0.0     315.00000              316.25000                  250.0              316.25000                  250.0              0.0        0.0        0.0\n",
      "2570157 2024-09-18 00:00:00    YWPS2            0            0         1  353.13165        350.0       176.62     176.62        0.0         0.0        0.0        0.0         0.0        0.0       0.0       0.0     350.00000              365.00000                  250.0              365.00000                  250.0              0.0        0.0        0.0\n",
      "2570158 2024-09-18 00:00:00    YWPS3            0            0         0        0.0          0.0       177.75     177.75        0.0         0.0        0.0        0.0         0.0        0.0       0.0       0.0       0.00000              378.84375                  250.0              378.84375                  250.0              0.0        0.0        0.0\n",
      "2570159 2024-09-18 00:00:00    YWPS4            0            0         1   368.7038        370.0        180.0      180.0        0.0         0.0        0.0        0.0         0.0        0.0       0.0       0.0     370.00000              385.00000                  250.0              385.00000                  250.0              0.0        0.0        0.0\n",
      "\n",
      "[2450880 rows x 25 columns]\n",
      "             SETTLEMENTDATE     DUID INTERVENTION DISPATCHMODE AGCSTATUS  INITIALMW TOTALCLEARED RAMPDOWNRATE RAMPUPRATE  LOWER5MIN  LOWER60SEC  LOWER6SEC  RAISE5MIN  RAISE60SEC  RAISE6SEC  LOWERREG  RAISEREG  AVAILABILITY  RAISEREGENABLEMENTMAX  RAISEREGENABLEMENTMIN  LOWERREGENABLEMENTMAX  LOWERREGENABLEMENTMIN  SEMIDISPATCHCAP  LOWER1SEC  RAISE1SEC\n",
      "119280  2024-09-01 00:05:00  ADPBA1G            0            0         1        0.0          0.0        93.12      93.12        0.0         0.0        0.0        3.0         3.0        3.0       0.0       0.0       6.00000                6.00000                    0.0                6.00000                    0.0              0.0        0.0        0.0\n",
      "119281  2024-09-01 00:05:00  ADPBA1L            0            0         1      0.266          1.0        93.12      93.12        3.0         3.0        3.0        0.0         0.0        0.0       0.0       0.0       6.00000                6.00000                    0.0                6.00000                    0.0              0.0        0.0        0.0\n",
      "119282  2024-09-01 00:05:00   ADPPV1            0            0         0        0.0          0.0        120.0      120.0        0.0         0.0        0.0        0.0         0.0        0.0       0.0       0.0       0.00000                0.00000                    0.0                0.00000                    0.0              0.0        0.0        0.0\n",
      "119283  2024-09-01 00:05:00   AGLHAL            0            0         0        0.0          0.0        720.0      720.0        0.0         0.0        0.0        0.0         0.0        0.0       0.0       0.0     192.00000                0.00000                    0.0                0.00000                    0.0              0.0        0.0        0.0\n",
      "119284  2024-09-01 00:05:00   AGLSOM            0            0         0        0.0          0.0        480.0      480.0        0.0         0.0        0.0        0.0         0.0        0.0       0.0       0.0     170.00000                0.00000                    0.0                0.00000                    0.0              0.0        0.0        0.0\n",
      "...                     ...      ...          ...          ...       ...        ...          ...          ...        ...        ...         ...        ...        ...         ...        ...       ...       ...           ...                    ...                    ...                    ...                    ...              ...        ...        ...\n",
      "2570155 2024-09-18 00:00:00  YENDWF1            0            0         0  107.10001    106.29887       1680.0     1680.0        0.0         0.0        0.0        0.0         0.0        0.0       0.0       0.0     106.29887                0.00000                    0.0                0.00000                    0.0              0.0        0.0        0.0\n",
      "2570156 2024-09-18 00:00:00    YWPS1            0            0         1  316.53925        315.0        180.0      180.0        0.0         0.0        0.0        0.0         0.0        0.0       0.0       0.0     315.00000              316.25000                  250.0              316.25000                  250.0              0.0        0.0        0.0\n",
      "2570157 2024-09-18 00:00:00    YWPS2            0            0         1  353.13165        350.0       176.62     176.62        0.0         0.0        0.0        0.0         0.0        0.0       0.0       0.0     350.00000              365.00000                  250.0              365.00000                  250.0              0.0        0.0        0.0\n",
      "2570158 2024-09-18 00:00:00    YWPS3            0            0         0        0.0          0.0       177.75     177.75        0.0         0.0        0.0        0.0         0.0        0.0       0.0       0.0       0.00000              378.84375                  250.0              378.84375                  250.0              0.0        0.0        0.0\n",
      "2570159 2024-09-18 00:00:00    YWPS4            0            0         1   368.7038        370.0        180.0      180.0        0.0         0.0        0.0        0.0         0.0        0.0       0.0       0.0     370.00000              385.00000                  250.0              385.00000                  250.0              0.0        0.0        0.0\n",
      "\n",
      "[2450880 rows x 25 columns]\n"
     ]
    }
   ],
   "source": [
    "df = get_nemweb_dispatch_info(\"01/09/2024 00:05\", \"18/09/2024 00:00\")\n",
    "output_file = f'dispatch_load_202409.parquet'\n",
    "    \n",
    "import pyarrow.parquet as pq\n",
    "\n",
    "df.to_parquet(output_file, engine='fastparquet')"
   ]
  },
  {
   "cell_type": "code",
   "execution_count": 8,
   "metadata": {},
   "outputs": [
    {
     "name": "stdout",
     "output_type": "stream",
     "text": [
      "           SETTLEMENTDATE REGIONID  INTERVENTION         RRP  RAISE6SECRRP  RAISE60SECRRP  RAISE5MINRRP  RAISEREGRRP  LOWER6SECRRP  LOWER60SECRRP  LOWER5MINRRP  LOWERREGRRP PRICE_STATUS  RAISE1SECRRP  LOWER1SECRRP         LASTCHANGED       DOWNLOAD_TIME\n",
      "index                                                                                                                                                                                                                                                        \n",
      "5     2023-01-01 00:05:00     NSW1             0  140.399551          0.39           0.86          0.50         5.45          0.39           0.86          0.39         3.70         FIRM             0             0 2023-01-01 00:30:02 2024-05-09 18:06:00\n",
      "6     2023-01-01 00:05:00     QLD1             0  139.730164          0.39           0.86          0.50         5.45          0.39           0.86          0.39         3.70         FIRM             0             0 2023-01-01 00:30:02 2024-05-09 18:06:00\n",
      "7     2023-01-01 00:05:00      SA1             0  127.570999          0.39           0.86          0.50         5.45          0.39           0.86          0.39         3.70         FIRM             0             0 2023-01-01 00:30:02 2024-05-09 18:06:00\n",
      "8     2023-01-01 00:05:00     TAS1             0  450.100006          0.39           0.86          0.50         5.45          0.39           0.86          0.39         3.70         FIRM             0             0 2023-01-01 00:30:02 2024-05-09 18:06:00\n",
      "9     2023-01-01 00:05:00     VIC1             0  129.508408          0.39           0.86          0.50         5.45          0.39           0.86          0.39         3.70         FIRM             0             0 2023-01-01 00:30:02 2024-05-09 18:06:00\n",
      "...                   ...      ...           ...         ...           ...            ...           ...          ...           ...            ...           ...          ...          ...           ...           ...                 ...                 ...\n",
      "44640 2023-02-01 00:00:00     NSW1             0  128.000137          0.95           1.00          0.75        11.68          0.19           0.39          0.39         3.99         FIRM             0             0 2023-01-31 23:55:03 2024-05-09 18:06:00\n",
      "44641 2023-02-01 00:00:00     QLD1             0  132.182526          0.95           1.00          0.75        11.68          0.19           0.39          0.39         3.99         FIRM             0             0 2023-01-31 23:55:03 2024-05-09 18:06:00\n",
      "44642 2023-02-01 00:00:00      SA1             0  120.440002          0.95           1.00          0.75        11.68          0.19           0.39          0.39         3.99         FIRM             0             0 2023-01-31 23:55:03 2024-05-09 18:06:00\n",
      "44643 2023-02-01 00:00:00     TAS1             0  122.709473          0.95           4.13          0.75        11.10          0.39           1.00          0.39         3.99         FIRM             0             0 2023-01-31 23:55:03 2024-05-09 18:06:00\n",
      "44644 2023-02-01 00:00:00     VIC1             0  116.094261          0.95           1.00          0.75        11.68          0.19           0.39          0.39         3.99         FIRM             0             0 2023-01-31 23:55:03 2024-05-09 18:06:00\n",
      "\n",
      "[44640 rows x 17 columns]\n"
     ]
    }
   ],
   "source": [
    "import pandas as pd\n",
    "\n",
    "df = pd.read_parquet('../data/dispatch_price/dispatch_price_202301.parquet')\n",
    "print(df)"
   ]
  }
 ],
 "metadata": {
  "kernelspec": {
   "display_name": "base",
   "language": "python",
   "name": "python3"
  },
  "language_info": {
   "codemirror_mode": {
    "name": "ipython",
    "version": 3
   },
   "file_extension": ".py",
   "mimetype": "text/x-python",
   "name": "python",
   "nbconvert_exporter": "python",
   "pygments_lexer": "ipython3",
   "version": "3.10.9"
  }
 },
 "nbformat": 4,
 "nbformat_minor": 2
}
